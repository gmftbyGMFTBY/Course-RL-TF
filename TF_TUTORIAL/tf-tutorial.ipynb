{
 "cells": [
  {
   "cell_type": "markdown",
   "metadata": {},
   "source": [
    "# Tensorflow基础\n",
    "\n",
    "- 1. 数据集\n",
    "\n",
    "- 2. 静态计算图\n",
    "\n",
    "- 3. Keras\n",
    "\n",
    "- 4. 动态计算图"
   ]
  },
  {
   "cell_type": "code",
   "execution_count": 1,
   "metadata": {},
   "outputs": [],
   "source": [
    "import tensorflow as tf\n",
    "# tf.enable_eager_execution()\n",
    "\n",
    "import numpy as np\n",
    "import matplotlib.pyplot as plt\n",
    "\n",
    "import os\n",
    "import gzip"
   ]
  },
  {
   "cell_type": "code",
   "execution_count": 2,
   "metadata": {},
   "outputs": [
    {
     "data": {
      "text/plain": [
       "'1.12.0'"
      ]
     },
     "execution_count": 2,
     "metadata": {},
     "output_type": "execute_result"
    }
   ],
   "source": [
    "tf.__version__"
   ]
  },
  {
   "cell_type": "markdown",
   "metadata": {},
   "source": [
    "# 1. 数据集\n",
    "\n",
    "https://github.com/zalandoresearch/fashion-mnist"
   ]
  },
  {
   "cell_type": "markdown",
   "metadata": {},
   "source": [
    "## 1.0 预备知识\n",
    "\n",
    "- gzip: https://docs.python.org/3/library/gzip.html#gzip.open\n",
    "- numpy: https://www.numpy.org/devdocs/user/quickstart.html"
   ]
  },
  {
   "cell_type": "code",
   "execution_count": 3,
   "metadata": {},
   "outputs": [
    {
     "name": "stdout",
     "output_type": "stream",
     "text": [
      "<class 'numpy.ndarray'>\n",
      "[[1 2]\n",
      " [3 4]]\n"
     ]
    }
   ],
   "source": [
    "# 创建ndarray\n",
    "\n",
    "a = np.array([[1, 2], [3, 4]])\n",
    "\n",
    "print(type(a))\n",
    "print(a)"
   ]
  },
  {
   "cell_type": "code",
   "execution_count": 4,
   "metadata": {},
   "outputs": [
    {
     "name": "stdout",
     "output_type": "stream",
     "text": [
      "(2, 2)\n",
      "(4, 1)\n"
     ]
    }
   ],
   "source": [
    "# ndarray形状（shape）\n",
    "print(a.shape)\n",
    "\n",
    "x = a.reshape(4, 1)\n",
    "print(x.shape)"
   ]
  },
  {
   "cell_type": "code",
   "execution_count": 5,
   "metadata": {},
   "outputs": [
    {
     "name": "stdout",
     "output_type": "stream",
     "text": [
      "int64\n",
      "[1.1 2.2]\n",
      "float32\n",
      "float64\n"
     ]
    }
   ],
   "source": [
    "# 数据类型\n",
    "\n",
    "print(a.dtype)\n",
    "\n",
    "b = np.array([1.1, 2.2], dtype=np.float32)\n",
    "print(b)\n",
    "print(b.dtype)\n",
    "\n",
    "\n",
    "c = a.astype(np.float64)\n",
    "print(c.dtype)"
   ]
  },
  {
   "cell_type": "markdown",
   "metadata": {},
   "source": [
    "- `np.frombuffer()`: https://docs.scipy.org/doc/numpy/reference/generated/numpy.frombuffer.html\n",
    "- `np.bincount()`: "
   ]
  },
  {
   "cell_type": "markdown",
   "metadata": {},
   "source": [
    "- matplotlib plot: https://matplotlib.org/3.1.0/api/_as_gen/matplotlib.pyplot.plot.html"
   ]
  },
  {
   "cell_type": "code",
   "execution_count": 6,
   "metadata": {},
   "outputs": [
    {
     "data": {
      "image/png": "[encoded data removed]",
      "text/plain": [
       "<Figure size 432x288 with 1 Axes>"
      ]
     },
     "metadata": {
      "needs_background": "light"
     },
     "output_type": "display_data"
    }
   ],
   "source": [
    "# Plot\n",
    "\n",
    "x = [1, 2, 3, 4]\n",
    "y = [3, 4, 0, 6]\n",
    "\n",
    "plt.plot(x, y)\n",
    "plt.show()"
   ]
  },
  {
   "cell_type": "code",
   "execution_count": 7,
   "metadata": {},
   "outputs": [
    {
     "data": {
      "image/png": "[encoded data removed]",
      "text/plain": [
       "<Figure size 432x288 with 1 Axes>"
      ]
     },
     "metadata": {
      "needs_background": "light"
     },
     "output_type": "display_data"
    }
   ],
   "source": [
    "# With points\n",
    "\n",
    "plt.plot(y, '-o')\n",
    "plt.show()"
   ]
  },
  {
   "cell_type": "markdown",
   "metadata": {},
   "source": [
    "## 1.1 加载数据"
   ]
  },
  {
   "cell_type": "code",
   "execution_count": 21,
   "metadata": {},
   "outputs": [
    {
     "name": "stdout",
     "output_type": "stream",
     "text": [
      "t10k-images-idx3-ubyte.gz  train-images-idx3-ubyte.gz\r\n",
      "t10k-labels-idx1-ubyte.gz  train-labels-idx1-ubyte.gz\r\n"
     ]
    }
   ],
   "source": [
    "!ls ./fashion-mnist"
   ]
  },
  {
   "cell_type": "code",
   "execution_count": 8,
   "metadata": {},
   "outputs": [
    {
     "name": "stdout",
     "output_type": "stream",
     "text": [
      "train_lbs.shape: (60000,)\n",
      "train_imgs.shape: (60000, 28, 28)\n",
      "test_lbs.shape: (10000,)\n",
      "test_imgs.shape: (10000, 28, 28)\n"
     ]
    }
   ],
   "source": [
    "# 数据集文件路径\n",
    "dataset_dir = './fashion-mnist'\n",
    "file_names = [\n",
    "    'train-labels-idx1-ubyte.gz',\n",
    "    'train-images-idx3-ubyte.gz',\n",
    "    't10k-labels-idx1-ubyte.gz',\n",
    "    't10k-images-idx3-ubyte.gz',\n",
    "]\n",
    "\n",
    "\n",
    "# 加载训练集中的标签 train_lbs\n",
    "path = os.path.join(dataset_dir, file_names[0])\n",
    "with gzip.open(path) as file:\n",
    "    train_lbs = np.frombuffer(file.read(), np.uint8, offset=8)\n",
    "print('train_lbs.shape:', train_lbs.shape)\n",
    "\n",
    "\n",
    "# 加载训练集中的图片 train_imgs\n",
    "path = os.path.join(dataset_dir, file_names[1])\n",
    "with gzip.open(path) as file:\n",
    "    train_imgs = np.frombuffer(file.read(), np.uint8, offset=16)\n",
    "    train_imgs = train_imgs.reshape(len(train_lbs), 28, 28)\n",
    "print('train_imgs.shape:', train_imgs.shape)\n",
    "\n",
    "    \n",
    "# 加载测试集中的标签 test_lbs\n",
    "path = os.path.join(dataset_dir, file_names[2])\n",
    "with gzip.open(path) as file:\n",
    "    test_lbs = np.frombuffer(file.read(), np.uint8, offset=8)\n",
    "print('test_lbs.shape:', test_lbs.shape)\n",
    "\n",
    "\n",
    "# 加载测试集中的图片 x_test\n",
    "path = os.path.join(dataset_dir, file_names[3])\n",
    "with gzip.open(path) as file:\n",
    "    test_imgs = np.frombuffer(file.read(), np.uint8, offset=16)\n",
    "    test_imgs = test_imgs.reshape(len(test_lbs), 28, 28)\n",
    "print('test_imgs.shape:', test_imgs.shape)"
   ]
  },
  {
   "cell_type": "markdown",
   "metadata": {},
   "source": [
    "## 1.2 查看数据"
   ]
  },
  {
   "cell_type": "code",
   "execution_count": 9,
   "metadata": {},
   "outputs": [],
   "source": [
    "# 每个类别的名称\n",
    "\n",
    "n_class = 10\n",
    "\n",
    "class_names = [\n",
    "    'T-shirt/top',\n",
    "    'Trouser',\n",
    "    'Pullover',\n",
    "    'Dress',\n",
    "    'Coat',\n",
    "    'Sandal',\n",
    "    'Shirt',\n",
    "    'Sneaker',\n",
    "    'Bag',\n",
    "    'Ankle boot',\n",
    "]"
   ]
  },
  {
   "cell_type": "code",
   "execution_count": 10,
   "metadata": {},
   "outputs": [
    {
     "name": "stdout",
     "output_type": "stream",
     "text": [
      "0\n",
      "T-shirt/top\n",
      "[  0   0   0   0   0  31 174  28 126 153 166 152 158 158 160 161 157 168\n",
      " 191 188  18 132 159   7   0   0   0   0]\n"
     ]
    },
    {
     "data": {
      "image/png": "[encoded data removed]",
      "text/plain": [
       "<Figure size 432x288 with 1 Axes>"
      ]
     },
     "metadata": {
      "needs_background": "light"
     },
     "output_type": "display_data"
    }
   ],
   "source": [
    "# 展示训练集中第i条数据\n",
    "i = 10\n",
    "print(train_lbs[i], )\n",
    "print(class_names[train_lbs[i]])\n",
    "\n",
    "print(train_imgs[i][10])\n",
    "plt.imshow(train_imgs[i])\n",
    "plt.show()"
   ]
  },
  {
   "cell_type": "markdown",
   "metadata": {},
   "source": [
    "## 数据预处理"
   ]
  },
  {
   "cell_type": "code",
   "execution_count": 11,
   "metadata": {},
   "outputs": [
    {
     "name": "stdout",
     "output_type": "stream",
     "text": [
      "float32 int32\n",
      "[0.         0.         0.         0.         0.         0.\n",
      " 0.         0.         0.         0.         0.         0.\n",
      " 0.         0.75686276 0.89411765 0.85490197 0.8352941  0.7764706\n",
      " 0.7058824  0.83137256 0.8235294  0.827451   0.8352941  0.8745098\n",
      " 0.8627451  0.9529412  0.7921569  0.        ]\n"
     ]
    }
   ],
   "source": [
    "train_x = train_imgs / 255\n",
    "test_x = test_imgs / 255\n",
    "\n",
    "train_x = train_x.astype(np.float32)\n",
    "test_x = test_x.astype(np.float32)\n",
    "\n",
    "train_y = train_lbs.astype(np.int32)\n",
    "test_y = test_lbs.astype(np.int32)\n",
    "\n",
    "print(train_x.dtype, train_y.dtype)\n",
    "print(train_x[0][10])"
   ]
  },
  {
   "cell_type": "markdown",
   "metadata": {},
   "source": [
    "## 数据统计"
   ]
  },
  {
   "cell_type": "code",
   "execution_count": 12,
   "metadata": {},
   "outputs": [
    {
     "name": "stdout",
     "output_type": "stream",
     "text": [
      "[6000 6000 6000 6000 6000 6000 6000 6000 6000 6000]\n",
      "[1000 1000 1000 1000 1000 1000 1000 1000 1000 1000]\n"
     ]
    }
   ],
   "source": [
    "print(np.bincount(train_y))\n",
    "print(np.bincount(test_y))"
   ]
  },
  {
   "cell_type": "markdown",
   "metadata": {},
   "source": [
    "# 2. 静态计算图"
   ]
  },
  {
   "cell_type": "markdown",
   "metadata": {},
   "source": [
    "## 2.0 知识点"
   ]
  },
  {
   "cell_type": "markdown",
   "metadata": {},
   "source": [
    "- `tf.placeholder()`: https://tensorflow.google.cn/versions/r1.12/api_docs/python/tf/placeholder"
   ]
  },
  {
   "cell_type": "code",
   "execution_count": 16,
   "metadata": {},
   "outputs": [
    {
     "name": "stdout",
     "output_type": "stream",
     "text": [
      "[[0.25631177 0.79096395 0.517663  ]\n",
      " [0.06570089 0.48936054 0.25689718]\n",
      " [0.11537124 0.46429995 0.30083376]]\n"
     ]
    }
   ],
   "source": [
    "x = tf.placeholder(tf.float32, shape=(3, 3))\n",
    "y = tf.matmul(x, x)\n",
    "\n",
    "with tf.Session() as sess:\n",
    "#     print(sess.run(y))  # ERROR: will fail because x was not fed.\n",
    "\n",
    "    rand_array = np.random.rand(3, 3)\n",
    "    print(sess.run(y, feed_dict={x: rand_array}))  # Will succeed."
   ]
  },
  {
   "cell_type": "markdown",
   "metadata": {},
   "source": [
    "- `tf.layers.dense()`: https://tensorflow.google.cn/versions/r1.12/api_docs/python/tf/layers/dense"
   ]
  },
  {
   "cell_type": "code",
   "execution_count": 19,
   "metadata": {
    "scrolled": false
   },
   "outputs": [
    {
     "name": "stdout",
     "output_type": "stream",
     "text": [
      "<class 'numpy.ndarray'>\n",
      "(4, 3)\n",
      "float32\n",
      "[[-0.27386567 -1.479421   -1.6359808 ]\n",
      " [-0.41556495 -0.5151276  -0.66104156]\n",
      " [-0.3592445  -0.8518529  -1.1306623 ]\n",
      " [-0.13582131 -0.29879582 -0.15823813]]\n"
     ]
    }
   ],
   "source": [
    "x = tf.placeholder(tf.float32, shape=(4, 5))\n",
    "y = tf.layers.dense(x, units=3)\n",
    "\n",
    "with tf.Session() as sess:\n",
    "    sess.run(tf.global_variables_initializer())\n",
    "    x_data = np.random.rand(4, 5)\n",
    "    y_data = sess.run(y, feed_dict={x: x_data})\n",
    "    \n",
    "    print(type(y_data))\n",
    "    print(y_data.shape)\n",
    "    print(y_data.dtype)\n",
    "    print(y_data)"
   ]
  },
  {
   "cell_type": "markdown",
   "metadata": {},
   "source": [
    "- Dataset\n",
    "- tf.data.Dataset.from_tensor_slices()\n",
    "- dataset.batch()\n",
    "- dataset.make_initializable_iterator()\n",
    "- iterator.get_next()"
   ]
  },
  {
   "cell_type": "markdown",
   "metadata": {},
   "source": [
    "- loss\n",
    "- optim\n",
    "- acc"
   ]
  },
  {
   "cell_type": "markdown",
   "metadata": {},
   "source": [
    "## 2.1 模型"
   ]
  },
  {
   "cell_type": "code",
   "execution_count": 44,
   "metadata": {
    "scrolled": false
   },
   "outputs": [
    {
     "name": "stdout",
     "output_type": "stream",
     "text": [
      "[Epoch 1] loss: 0.520 | acc: 0.819\n",
      "[Epoch 2] loss: 0.389 | acc: 0.860\n",
      "[Epoch 3] loss: 0.350 | acc: 0.873\n",
      "[Epoch 4] loss: 0.323 | acc: 0.882\n",
      "[Epoch 5] loss: 0.303 | acc: 0.889\n"
     ]
    }
   ],
   "source": [
    "# 超参数\n",
    "n_epochs = 5\n",
    "batch_size = 64\n",
    "n_batchs = len(train_x) // batch_size\n",
    "hidden_size = 128\n",
    "learning_rate = 0.001\n",
    "\n",
    "\n",
    "# 数据集\n",
    "data_x = tf.placeholder(tf.float32, shape=train_x.shape)\n",
    "data_y = tf.placeholder(tf.int32, shape=train_y.shape)\n",
    "\n",
    "dataset = tf.data.Dataset.from_tensor_slices((data_x, data_y))\n",
    "dataset = dataset.batch(batch_size)\n",
    "\n",
    "iterator = dataset.make_initializable_iterator()\n",
    "input_x, input_y = iterator.get_next()\n",
    "\n",
    "\n",
    "# 静态计算图\n",
    "h = tf.layers.flatten(input_x)\n",
    "h = tf.layers.dense(h, units=hidden_size, activation='relu')\n",
    "logits = tf.layers.dense(h, units=n_class)\n",
    "\n",
    "loss = tf.losses.sparse_softmax_cross_entropy(labels=input_y, logits=logits)\n",
    "optim = tf.train.AdamOptimizer(learning_rate=learning_rate).minimize(loss)\n",
    "\n",
    "acc, acc_op = tf.metrics.accuracy(labels=input_y, predictions=tf.math.argmax(logits, axis=1))\n",
    "\n",
    "\n",
    "# 运行\n",
    "with tf.Session() as sess:\n",
    "    sess.run(tf.global_variables_initializer())\n",
    "    epoch_loss_list = []\n",
    "    for epoch in range(1, n_epochs + 1):\n",
    "        sess.run(iterator.initializer, feed_dict={data_x: train_x, data_y: train_y})\n",
    "        sess.run(tf.local_variables_initializer())\n",
    "        batch_loss_list = []\n",
    "        for i in range(n_batchs):\n",
    "            _, loss_value, acc_op_value = sess.run([optim, loss, acc_op])\n",
    "            batch_loss_list.append(loss_value)\n",
    "        epoch_loss = sum(batch_loss_list) / len(batch_loss_list)\n",
    "        epoch_loss_list.append(epoch_loss)\n",
    "        print('[Epoch %d] loss: %.3f | acc: %.3f' % (epoch, epoch_loss, acc_op_value))"
   ]
  },
  {
   "cell_type": "markdown",
   "metadata": {},
   "source": [
    "# 3. Keras"
   ]
  },
  {
   "cell_type": "code",
   "execution_count": 45,
   "metadata": {},
   "outputs": [
    {
     "name": "stdout",
     "output_type": "stream",
     "text": [
      "_________________________________________________________________\n",
      "Layer (type)                 Output Shape              Param #   \n",
      "=================================================================\n",
      "flatten_25 (Flatten)         (None, 784)               0         \n",
      "_________________________________________________________________\n",
      "dense_50 (Dense)             (None, 128)               100480    \n",
      "_________________________________________________________________\n",
      "dense_51 (Dense)             (None, 10)                1290      \n",
      "=================================================================\n",
      "Total params: 101,770\n",
      "Trainable params: 101,770\n",
      "Non-trainable params: 0\n",
      "_________________________________________________________________\n"
     ]
    }
   ],
   "source": [
    "model = tf.keras.Sequential([\n",
    "    tf.keras.layers.Flatten(input_shape=(28, 28)),\n",
    "    tf.keras.layers.Dense(128, activation=tf.nn.relu),\n",
    "    tf.keras.layers.Dense(10, activation=tf.nn.softmax)\n",
    "])\n",
    "\n",
    "model.summary()"
   ]
  },
  {
   "cell_type": "code",
   "execution_count": 46,
   "metadata": {},
   "outputs": [],
   "source": [
    "model.compile(optimizer=tf.train.AdamOptimizer(),\n",
    "              loss='sparse_categorical_crossentropy',\n",
    "              metrics=['accuracy'])"
   ]
  },
  {
   "cell_type": "code",
   "execution_count": 47,
   "metadata": {},
   "outputs": [
    {
     "name": "stdout",
     "output_type": "stream",
     "text": [
      "Epoch 1/5\n",
      "60000/60000 [==============================] - 1s 21us/step - loss: 0.5617 - acc: 0.8086\n",
      "Epoch 2/5\n",
      "60000/60000 [==============================] - 1s 9us/step - loss: 0.4105 - acc: 0.8561\n",
      "Epoch 3/5\n",
      "60000/60000 [==============================] - 1s 9us/step - loss: 0.3676 - acc: 0.8693\n",
      "Epoch 4/5\n",
      "60000/60000 [==============================] - 1s 9us/step - loss: 0.3397 - acc: 0.8782\n",
      "Epoch 5/5\n",
      "60000/60000 [==============================] - 1s 9us/step - loss: 0.3238 - acc: 0.8829\n"
     ]
    }
   ],
   "source": [
    "history = model.fit(train_x, train_y,\n",
    "                    epochs=5,\n",
    "                    batch_size=128)"
   ]
  },
  {
   "cell_type": "code",
   "execution_count": 48,
   "metadata": {},
   "outputs": [
    {
     "data": {
      "image/png": "[encoded data removed]",
      "text/plain": [
       "<Figure size 432x288 with 1 Axes>"
      ]
     },
     "metadata": {
      "needs_background": "light"
     },
     "output_type": "display_data"
    },
    {
     "data": {
      "image/png": "[encoded data removed]",
      "text/plain": [
       "<Figure size 432x288 with 1 Axes>"
      ]
     },
     "metadata": {
      "needs_background": "light"
     },
     "output_type": "display_data"
    }
   ],
   "source": [
    "plt.plot(history.history['loss'], '-x')\n",
    "plt.show()\n",
    "\n",
    "plt.plot(history.history['acc'], '-x')\n",
    "plt.show()"
   ]
  },
  {
   "cell_type": "markdown",
   "metadata": {},
   "source": [
    "# 4. 动态计算图（keras，eager）\n",
    "\n",
    "- 需restart kernel, 启用Eager Execution"
   ]
  },
  {
   "cell_type": "markdown",
   "metadata": {},
   "source": [
    "## 4.0 知识点"
   ]
  },
  {
   "cell_type": "markdown",
   "metadata": {},
   "source": [
    "- `with tf.GradientTape() as tape:`\n",
    "- `grads = tape.gradient(loss, model.variables)`\n",
    "- `optim.apply_gradients(zip(grads, model.variables))`"
   ]
  },
  {
   "cell_type": "markdown",
   "metadata": {},
   "source": [
    "## 4.1 模型"
   ]
  },
  {
   "cell_type": "code",
   "execution_count": 8,
   "metadata": {},
   "outputs": [],
   "source": [
    "class Model(tf.keras.Model):\n",
    "    \n",
    "    def __init__(self):\n",
    "        super(Model, self).__init__()\n",
    "        self.flatten = tf.keras.layers.Flatten()\n",
    "        self.dense1 = tf.keras.layers.Dense(128, activation='relu')\n",
    "        self.dense2 = tf.keras.layers.Dense(10)\n",
    "        \n",
    "    def call(self, x):\n",
    "        h = self.flatten(x)\n",
    "        h = self.dense1(h)\n",
    "        y = self.dense2(h)\n",
    "        return y"
   ]
  },
  {
   "cell_type": "code",
   "execution_count": 15,
   "metadata": {
    "scrolled": false
   },
   "outputs": [
    {
     "name": "stdout",
     "output_type": "stream",
     "text": [
      "[Epoch 1] loss: 0.519 | acc: 0.819\n",
      "[Epoch 2] loss: 0.387 | acc: 0.862\n",
      "[Epoch 3] loss: 0.347 | acc: 0.876\n",
      "[Epoch 4] loss: 0.319 | acc: 0.884\n",
      "[Epoch 5] loss: 0.299 | acc: 0.891\n"
     ]
    },
    {
     "data": {
      "image/png": "[encoded data removed]",
      "text/plain": [
       "<Figure size 432x288 with 1 Axes>"
      ]
     },
     "metadata": {
      "needs_background": "light"
     },
     "output_type": "display_data"
    },
    {
     "data": {
      "image/png": "[encoded data removed]",
      "text/plain": [
       "<Figure size 432x288 with 1 Axes>"
      ]
     },
     "metadata": {
      "needs_background": "light"
     },
     "output_type": "display_data"
    }
   ],
   "source": [
    "n_epochs = 5\n",
    "\n",
    "model = Model()\n",
    "optim = tf.train.AdamOptimizer()\n",
    "\n",
    "\n",
    "dataset = tf.data.Dataset.from_tensor_slices((train_x, tf.cast(train_y, tf.int64)))\n",
    "dataset = dataset.batch(64)\n",
    "\n",
    "\n",
    "epoch_loss_list = []\n",
    "epoch_acc_list = []\n",
    "for epoch in range(1, n_epochs + 1):\n",
    "    batch_loss_list = []\n",
    "    acc = tf.contrib.eager.metrics.Accuracy()\n",
    "    for x, y in dataset:\n",
    "        with tf.GradientTape() as tape:\n",
    "            logits = model(x)\n",
    "            loss = tf.losses.sparse_softmax_cross_entropy(labels=y, logits=logits)\n",
    "            batch_loss_list.append(loss.numpy().item())\n",
    "            acc(tf.math.argmax(logits, axis=1), y)\n",
    "        grads = tape.gradient(loss, model.variables)\n",
    "        optim.apply_gradients(zip(grads, model.variables))\n",
    "    \n",
    "    epoch_loss = sum(batch_loss_list) / len(batch_loss_list)\n",
    "    epoch_loss_list.append(epoch_loss)\n",
    "    epoch_acc = acc.result().numpy().item()\n",
    "    epoch_acc_list.append(epoch_acc)\n",
    "    print('[Epoch %d] loss: %.3f | acc: %.3f' % (epoch, epoch_loss, epoch_acc))\n",
    "    \n",
    "\n",
    "plt.plot(epoch_loss_list, '-x')\n",
    "plt.show()\n",
    "\n",
    "plt.plot(epoch_acc_list, '-x')\n",
    "plt.show()"
   ]
  }
 ],
 "metadata": {
  "kernelspec": {
   "display_name": "Python 3",
   "language": "python",
   "name": "python3"
  },
  "language_info": {
   "codemirror_mode": {
    "name": "ipython",
    "version": 3
   },
   "file_extension": ".py",
   "mimetype": "text/x-python",
   "name": "python",
   "nbconvert_exporter": "python",
   "pygments_lexer": "ipython3",
   "version": "3.6.8"
  }
 },
 "nbformat": 4,
 "nbformat_minor": 2
}
