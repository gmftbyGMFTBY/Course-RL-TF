{
 "cells": [
  {
   "cell_type": "markdown",
   "metadata": {},
   "source": [
    "## Dueling DQN\n",
    "![dueling dqn](./image/dueling-dqn.png)\n",
    "\n",
    "1. 这么做的初衷在于，有时候很多情况下状态足够差无论采用什么好的动作都无力回天，优势函数 $A$ 在状态不敏感的情况下非常有用。举个例子，在非常“平凡”的状态下，这时候选择一个好的动作非常关键，但是如果在一个非常差的情况下，动作的选择就不那么重要了。\n",
    "\n",
    "2. 分类状态和动作，状态函数和动作无关，动作函数和状态无关，实验证明解耦和效果非常显著\n",
    "\n",
    "3. 优势函数$A$是需要减去改状态下的所有的动作的平均水平的，这样可以比较好的衡量出动作的相对优劣\n",
    "\n",
    "$$Q(s,a)=V(s) + A(s,a) - \\frac{1}{|A|}\\sum_{a'\\in A} A(s,a)$$"
   ]
  },
  {
   "cell_type": "code",
   "execution_count": 1,
   "metadata": {},
   "outputs": [],
   "source": [
    "import matplotlib.pyplot as plt\n",
    "from IPython import display\n",
    "from IPython.display import clear_output\n",
    "from brain.DuelingDQN import DuelingDQN\n",
    "from utils import *\n",
    "import gym\n",
    "import time\n",
    "import pandas\n",
    "import numpy as np\n",
    "import ipdb\n",
    "import pickle\n",
    "from tqdm import tqdm\n",
    "import os\n",
    "os.environ['CUDA_VISIBLE_DEVICES'] = '0'\n",
    "%matplotlib inline"
   ]
  },
  {
   "cell_type": "code",
   "execution_count": 2,
   "metadata": {},
   "outputs": [],
   "source": [
    "MEMORY_SIZE = 50000"
   ]
  },
  {
   "cell_type": "code",
   "execution_count": 3,
   "metadata": {},
   "outputs": [
    {
     "name": "stdout",
     "output_type": "stream",
     "text": [
      "WARNING:tensorflow:From /home/teacher/lt/Course-RL-TF/brain/DuelingDQN.py:74: calling reduce_mean (from tensorflow.python.ops.math_ops) with keep_dims is deprecated and will be removed in a future version.\n",
      "Instructions for updating:\n",
      "keep_dims is deprecated, use keepdims instead\n"
     ]
    }
   ],
   "source": [
    "env = gym.make('LunarLander-v2')\n",
    "env.seed(1)     # reproducible, general Policy gradient has high variance\n",
    "agent = DuelingDQN(n_actions=env.action_space.n, \n",
    "                   n_features=env.observation_space.shape[0], \n",
    "                   memory_size=MEMORY_SIZE,\n",
    "                   learning_rate=0.0005,\n",
    "                   e_greedy_increment=0.00001,\n",
    "                   e_greedy=0.95,\n",
    "                   replace_target_iter=2000,\n",
    "                   reward_decay=0.99,\n",
    "                   dueling=True, \n",
    "                   output_graph=True)"
   ]
  },
  {
   "cell_type": "code",
   "execution_count": 4,
   "metadata": {},
   "outputs": [
    {
     "name": "stderr",
     "output_type": "stream",
     "text": [
      "Running rewards: 4.9655, Current rewards: -84.0: 100%|██████████| 1000/1000 [10:42<00:00,  1.54it/s]\n"
     ]
    }
   ],
   "source": [
    "final_rewards = []\n",
    "running_reward = 0\n",
    "step = 0\n",
    "pbar = tqdm(range(1000))\n",
    "for i_episode in pbar:\n",
    "    observation = env.reset()\n",
    "    rewards = []\n",
    "    for t in range(200):\n",
    "        action = agent.choose_action(observation)\n",
    "\n",
    "        observation_, reward, done, info = env.step(action)\n",
    "        rewards.append(reward)\n",
    "        \n",
    "        if done:\n",
    "            reward = -200\n",
    "\n",
    "        agent.store_transition(observation, action, reward, observation_)\n",
    "        \n",
    "        if step > 2000:\n",
    "            agent.learn()\n",
    "\n",
    "        if done:\n",
    "            break\n",
    "        observation = observation_\n",
    "        step += 1\n",
    "        \n",
    "    if len(final_rewards) == 0:\n",
    "        final_rewards.append((np.sum(rewards), np.sum(rewards)))\n",
    "    else:\n",
    "        final_rewards.append((np.sum(rewards), final_rewards[-1][-1] * 0.99 + 0.01 * np.sum(rewards)))\n",
    "    pbar.set_description(f'Running Rewards: {round(final_rewards[-1][-1], 3)}, Current Rewards: {round(final_rewards[-1][0], 3)}')"
   ]
  },
  {
   "cell_type": "code",
   "execution_count": 5,
   "metadata": {},
   "outputs": [
    {
     "data": {
      "image/png": "[encoded data removed]",
      "text/plain": [
       "<Figure size 432x288 with 1 Axes>"
      ]
     },
     "metadata": {
      "needs_background": "light"
     },
     "output_type": "display_data"
    }
   ],
   "source": [
    "x = np.arange(len(final_rewards))\n",
    "plt.plot(x, [i[0] for i in final_rewards])\n",
    "plt.xlabel('Episode')\n",
    "plt.ylabel('Rewards')\n",
    "plt.savefig('./image/MTPG-cartpole.png')"
   ]
  },
  {
   "cell_type": "code",
   "execution_count": null,
   "metadata": {},
   "outputs": [],
   "source": []
  }
 ],
 "metadata": {
  "kernelspec": {
   "display_name": "Python 3",
   "language": "python",
   "name": "python3"
  },
  "language_info": {
   "codemirror_mode": {
    "name": "ipython",
    "version": 3
   },
   "file_extension": ".py",
   "mimetype": "text/x-python",
   "name": "python",
   "nbconvert_exporter": "python",
   "pygments_lexer": "ipython3",
   "version": "3.6.8"
  }
 },
 "nbformat": 4,
 "nbformat_minor": 2
}
