{
 "cells": [
  {
   "cell_type": "markdown",
   "metadata": {},
   "source": [
    "## Actor Critic Policy Gradient\n",
    "使用蒙特卡洛策略梯度(MTPG)方法使用了实际的奖励作为状态价值的估计，它虽然是无偏的，但是噪声却比较大，也就是**方差较高**。如果我们能够相对准确地估计状态价值，**使用预测的行为价值函数降低预测的方差**，用它来指导策略更新，那么是不是会有更好的学习效果呢？这就是Actor-Critic策略梯度的主要思想。**使用 Critic 估计状态行为价值**。\n",
    "1. Critic: Value-based 参数化行为价值函数 $Q_w(s,a)$，策略评估过程，确定参数 $\\theta$ 对应的策略 $\\pi_{\\theta}$ 的表现如何，代表的是策略估计的过程，可以使用之前的策略评估的方法得到解决(MC, TD, TD($\\lambda$), DQN, LS , ....),REINFORCE中的 $Q(s,a)$函数是实际的折扣奖励\n",
    "2. Actor: Policy-based 参数化的 $\\pi_{\\theta}$ 策略，按照 Critic 部分得到的价值引导策略函数参数 $\\theta$ 的更新，策略改善过程\n",
    "\n",
    "\n",
    "这样，Actor-Critic算法遵循的是一个近似的策略梯度\n",
    "$$\\nabla_{\\theta}J(\\theta)\\approx \\mathbb{E}_{\\pi_{\\theta}}[\\nabla_{\\theta}\\log\\pi_{\\theta}(s,a)Q_w(s,a)]$$\n",
    "\n",
    "之后的策略梯度的优化方法和之前的 REINFORCE 一致，知识 $Q(s,a)$ 的获得方式不同，REINFORCE是真实折扣累积奖励，Actor-Critic使用的是参数化的Critic价值网络\n",
    "\n",
    "---\n",
    "因为设计到了两个网络的联合训练，实际的效果和之前的方法相比有一些差距，并且训练不稳定，训练过长还会出现效果下降的问题，但是这是一个有前景的方向，目前针对这一个学习范式也提出了很多新的方法，效果也明显的超越了之前的DQN和简单的MCPG方法，比如DPG，DDPG，PPO等"
   ]
  },
  {
   "cell_type": "code",
   "execution_count": 1,
   "metadata": {},
   "outputs": [],
   "source": [
    "import matplotlib.pyplot as plt\n",
    "from IPython import display\n",
    "from IPython.display import clear_output\n",
    "from utils import *\n",
    "import gym\n",
    "import time\n",
    "import pandas\n",
    "import numpy as np\n",
    "import ipdb\n",
    "import pickle\n",
    "from tqdm import tqdm\n",
    "import tensorflow as tf\n",
    "import os\n",
    "os.environ['CUDA_VISIBLE_DEVICES'] = '0'\n",
    "from brain.A2C import *\n",
    "%matplotlib inline"
   ]
  },
  {
   "cell_type": "code",
   "execution_count": 2,
   "metadata": {},
   "outputs": [
    {
     "data": {
      "text/plain": [
       "[1]"
      ]
     },
     "execution_count": 2,
     "metadata": {},
     "output_type": "execute_result"
    }
   ],
   "source": [
    "env = gym.make('CartPole-v0')\n",
    "env.seed(1)"
   ]
  },
  {
   "cell_type": "code",
   "execution_count": 3,
   "metadata": {},
   "outputs": [
    {
     "data": {
      "text/plain": [
       "(2, 3)"
      ]
     },
     "execution_count": 3,
     "metadata": {},
     "output_type": "execute_result"
    }
   ],
   "source": [
    "# Superparameters\n",
    "MAX_EPISODE = 600\n",
    "MAX_EP_STEPS = 200   # maximum time step in one episode\n",
    "RENDER = False       # rendering wastes time\n",
    "GAMMA = 0.9          # reward discount in TD error\n",
    "LR_A = 0.001         # learning rate for actor\n",
    "LR_C = 0.005         # learning rate for critic, good teacher can teach student greatly\n",
    "\n",
    "N_F = env.observation_space.shape[0]\n",
    "N_A = env.action_space.n\n",
    "N_F, N_A"
   ]
  },
  {
   "cell_type": "code",
   "execution_count": 4,
   "metadata": {},
   "outputs": [],
   "source": [
    "actor = Actor(sess, n_features=N_F, n_actions=N_A, lr=LR_A)\n",
    "critic = Critic(sess, n_features=N_F, lr=LR_C)    \n",
    "sess.run(tf.global_variables_initializer())\n",
    "# we need a good teacher, so the teacher should learn faster than the actor"
   ]
  },
  {
   "cell_type": "code",
   "execution_count": 5,
   "metadata": {},
   "outputs": [],
   "source": [
    "def try_one_episode(max_episode=200):\n",
    "    observation = env.reset()\n",
    "    for i in range(max_episode):\n",
    "        env.render(mode='rgb_array')\n",
    "        # observation = discretize(observation)\n",
    "        show_state(env, i, None)\n",
    "        action = actor.choose_action(observation)\n",
    "        observation, reward, done, info = env.step(action)\n",
    "        if done:\n",
    "            break\n",
    "    clear_output(wait=True)"
   ]
  },
  {
   "cell_type": "code",
   "execution_count": 6,
   "metadata": {},
   "outputs": [
    {
     "data": {
      "image/png": "[encoded data removed]",
      "text/plain": [
       "<Figure size 432x288 with 1 Axes>"
      ]
     },
     "metadata": {
      "needs_background": "light"
     },
     "output_type": "display_data"
    }
   ],
   "source": [
    "try_one_episode(max_episode=200)"
   ]
  },
  {
   "cell_type": "code",
   "execution_count": 6,
   "metadata": {},
   "outputs": [
    {
     "name": "stderr",
     "output_type": "stream",
     "text": [
      "Running rewards: 36.9511, Current rewards: 45.0: 100%|██████████| 600/600 [07:44<00:00,  1.56it/s]\n"
     ]
    }
   ],
   "source": [
    "final_rewards = []\n",
    "running_reward = 0\n",
    "pbar = tqdm(range(MAX_EPISODE))\n",
    "for i_episode in pbar:\n",
    "    s = env.reset()\n",
    "    t = 0\n",
    "    track_r = []\n",
    "    while True:\n",
    "        # Policy-based actor choose the action\n",
    "        a = actor.choose_action(s)\n",
    "\n",
    "        s_, r, done, info = env.step(a)\n",
    "        track_r.append(r)\n",
    "        \n",
    "        # if done: \n",
    "        #     r = -20\n",
    "\n",
    "        # Value-based critic learn the value function for each state\n",
    "        td_error = critic.learn(s, r, s_)  # gradient = grad[r + gamma * V(s_) - V(s)]\n",
    "        \n",
    "        # Policy-based actor learn from the critic's predicted value\n",
    "        actor.learn(s, a, td_error)     # true_gradient = grad[logPi(s,a) * td_error]\n",
    "\n",
    "        s = s_\n",
    "        t += 1\n",
    "\n",
    "        if done or t >= MAX_EP_STEPS:\n",
    "            break\n",
    "    final_rewards.append(np.sum(track_r))\n",
    "    running_reward = running_reward * 0.99 + 0.01 * np.sum(track_r)\n",
    "    pbar.set_description(f'Running rewards: {round(running_reward, 4)}, Current rewards: {round(np.sum(track_r))}')"
   ]
  },
  {
   "cell_type": "code",
   "execution_count": 7,
   "metadata": {},
   "outputs": [
    {
     "data": {
      "image/png": "[encoded data removed]",
      "text/plain": [
       "<Figure size 432x288 with 1 Axes>"
      ]
     },
     "metadata": {
      "needs_background": "light"
     },
     "output_type": "display_data"
    }
   ],
   "source": [
    "x = np.arange(len(final_rewards))\n",
    "plt.plot(x, final_rewards)\n",
    "plt.xlabel('Episode')\n",
    "plt.ylabel('Rewards')\n",
    "plt.savefig('./image/A2C-cartpole.png')"
   ]
  },
  {
   "cell_type": "code",
   "execution_count": 7,
   "metadata": {},
   "outputs": [
    {
     "data": {
      "image/png": "[encoded data removed]",
      "text/plain": [
       "<Figure size 432x288 with 1 Axes>"
      ]
     },
     "metadata": {
      "needs_background": "light"
     },
     "output_type": "display_data"
    }
   ],
   "source": [
    "try_one_episode(max_episode=1000)    # 1000 for mauntaincar"
   ]
  },
  {
   "cell_type": "code",
   "execution_count": null,
   "metadata": {},
   "outputs": [],
   "source": []
  }
 ],
 "metadata": {
  "kernelspec": {
   "display_name": "Python 3",
   "language": "python",
   "name": "python3"
  },
  "language_info": {
   "codemirror_mode": {
    "name": "ipython",
    "version": 3
   },
   "file_extension": ".py",
   "mimetype": "text/x-python",
   "name": "python",
   "nbconvert_exporter": "python",
   "pygments_lexer": "ipython3",
   "version": "3.6.8"
  }
 },
 "nbformat": 4,
 "nbformat_minor": 2
}
