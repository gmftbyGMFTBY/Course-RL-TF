{
 "cells": [
  {
   "cell_type": "markdown",
   "metadata": {},
   "source": [
    "## Monte Carlo Policy Gradient (REINFORCE)\n",
    "![](./image/REINFORCE.png)"
   ]
  },
  {
   "cell_type": "markdown",
   "metadata": {},
   "source": [
    "最重要的公式是：\n",
    "$$\\theta \\leftarrow \\theta + \\alpha \\nabla_{\\theta}\\log \\pi_{\\theta} (s_t, a_t)v_t$$\n",
    "\n",
    "这个公式的来源就是一个非常著名的工作：__策略梯度定理__\n",
    "\n",
    "对于离散环境或者是连续环境来说，__累积奖励和__可以定义成:\n",
    "$$J(\\theta)=\\mathbb{E}_{\\pi_{\\theta}}[r]=\\sum_{s\\in S}d(s)\\sum_{a\\in A}\\pi_{\\theta}(s,a)Q(s,a)$$\n",
    "其中的 $d(s)$ 是状态的初始化概率分布\n",
    "\n",
    "---\n",
    "\n",
    "策略梯度的方法是 Policy-based 的RL方法，直接对策略 $\\pi$ 使用梯度下降优化(目的是通过优化策略从而最大化累积奖励)，__策略梯度__为：\n",
    "$$\\nabla_{\\theta}J(\\theta)=\\mathbb{E}_{\\pi_{\\theta}}[\\nabla_{\\theta}\\log \\pi_{\\theta}(s,a)Q^{\\pi_{\\theta}}(s,a)]$$\n",
    "\n",
    "* $\\nabla_{\\theta}\\log \\pi_{\\theta}(s,a)$ 是在状态 $s$ 下执行动作 $a$ 得到的修正的梯度\n",
    "* $r$ 表示奖励的好坏，奖励很大，修正的力度很大\n",
    "* 一般训练中，使用最小化 $-J(\\theta)$ 实现奖励和 $J(\\theta)$ 最大化 \n",
    "\n",
    "---\n",
    "\n",
    "因为是 Monte Carlo 模拟方法，需要等到一个 episode 结束才可以执行优化"
   ]
  },
  {
   "cell_type": "code",
   "execution_count": 1,
   "metadata": {},
   "outputs": [],
   "source": [
    "import matplotlib.pyplot as plt\n",
    "from IPython import display\n",
    "from IPython.display import clear_output\n",
    "from brain.MTPG import PolicyGradient\n",
    "from utils import *\n",
    "import gym\n",
    "import time\n",
    "import pandas\n",
    "import numpy as np\n",
    "import ipdb\n",
    "import pickle\n",
    "from tqdm import tqdm\n",
    "import os\n",
    "os.environ['CUDA_VISIBLE_DEVICES'] = '0'\n",
    "%matplotlib inline"
   ]
  },
  {
   "cell_type": "code",
   "execution_count": 2,
   "metadata": {},
   "outputs": [],
   "source": [
    "env = gym.make('LunarLander-v2')\n",
    "# LunarLander-v2, learning rate 0.001, epsilon 5000\n",
    "env.seed(1)     # reproducible, general Policy gradient has high variance\n",
    "agent = PolicyGradient(n_actions=env.action_space.n,\n",
    "                       n_features=env.observation_space.shape[0],\n",
    "                       learning_rate=0.001,    # 0.01 is good for CartPole-v0, 0.001 is good for LunarLnader-v2\n",
    "                       reward_decay=0.99,)"
   ]
  },
  {
   "cell_type": "code",
   "execution_count": 3,
   "metadata": {},
   "outputs": [
    {
     "name": "stderr",
     "output_type": "stream",
     "text": [
      "Running rewards: 188.5717, Current rewards: 28.0: 100%|██████████| 5000/5000 [13:39<00:00,  4.86it/s]\n"
     ]
    }
   ],
   "source": [
    "# Faster than DQN / Dueling DQN, and performance is better\n",
    "final_rewards = []\n",
    "pbar = tqdm(range(5000))\n",
    "for i_episode in pbar:\n",
    "    observation = env.reset()\n",
    "    rewards = []\n",
    "    for t in range(200):\n",
    "        action = agent.choose_action(observation)\n",
    "\n",
    "        observation_, reward, done, info = env.step(action)\n",
    "        rewards.append(reward)\n",
    "\n",
    "        agent.store_transition(observation, action, reward)\n",
    "\n",
    "        if done:\n",
    "            ep_rs_sum = sum(agent.ep_rs)\n",
    "\n",
    "            if 'running_reward' not in globals():\n",
    "                running_reward = ep_rs_sum\n",
    "            else:\n",
    "                running_reward = running_reward * 0.99 + ep_rs_sum * 0.01\n",
    "                \n",
    "            vt = agent.learn()\n",
    "            break\n",
    "\n",
    "        observation = observation_\n",
    "    pbar.set_description(f'Running rewards: {round(running_reward, 4)}, Current rewards: {round(np.sum(rewards))}')\n",
    "    final_rewards.append(np.sum(rewards))"
   ]
  },
  {
   "cell_type": "code",
   "execution_count": 4,
   "metadata": {},
   "outputs": [
    {
     "data": {
      "image/png": "[encoded data removed]",
      "text/plain": [
       "<Figure size 432x288 with 1 Axes>"
      ]
     },
     "metadata": {
      "needs_background": "light"
     },
     "output_type": "display_data"
    }
   ],
   "source": [
    "x = np.arange(len(final_rewards))\n",
    "plt.plot(x, final_rewards)\n",
    "plt.xlabel('Episode')\n",
    "plt.ylabel('Rewards')\n",
    "plt.savefig('./image/MTPG-cartpole.png')"
   ]
  },
  {
   "cell_type": "code",
   "execution_count": null,
   "metadata": {},
   "outputs": [],
   "source": []
  }
 ],
 "metadata": {
  "kernelspec": {
   "display_name": "Python 3",
   "language": "python",
   "name": "python3"
  },
  "language_info": {
   "codemirror_mode": {
    "name": "ipython",
    "version": 3
   },
   "file_extension": ".py",
   "mimetype": "text/x-python",
   "name": "python",
   "nbconvert_exporter": "python",
   "pygments_lexer": "ipython3",
   "version": "3.6.8"
  }
 },
 "nbformat": 4,
 "nbformat_minor": 2
}
