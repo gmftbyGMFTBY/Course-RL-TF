{
 "cells": [
  {
   "cell_type": "markdown",
   "metadata": {},
   "source": [
    "### DQN\n",
    "![](./image/DQN.jpg)"
   ]
  },
  {
   "cell_type": "code",
   "execution_count": 1,
   "metadata": {},
   "outputs": [],
   "source": [
    "import matplotlib.pyplot as plt\n",
    "from IPython import display\n",
    "from IPython.display import clear_output\n",
    "from brain.DQN import DeepQNetwork\n",
    "from utils import *\n",
    "import gym\n",
    "import time\n",
    "import pandas\n",
    "import numpy as np\n",
    "import ipdb\n",
    "import pickle\n",
    "from tqdm import tqdm\n",
    "import os\n",
    "os.environ['CUDA_VISIBLE_DEVICES'] = '0'\n",
    "%matplotlib inline"
   ]
  },
  {
   "cell_type": "code",
   "execution_count": 2,
   "metadata": {},
   "outputs": [],
   "source": [
    "env = gym.make('CartPole-v0')\n",
    "agent = DeepQNetwork(env.action_space.n, env.observation_space.shape[0],\n",
    "                     learning_rate=0.005,\n",
    "                     reward_decay=0.9,\n",
    "                     e_greedy=0.9,\n",
    "                     replace_target_iter=200,\n",
    "                     memory_size=2000,)"
   ]
  },
  {
   "cell_type": "code",
   "execution_count": 3,
   "metadata": {},
   "outputs": [
    {
     "name": "stderr",
     "output_type": "stream",
     "text": [
      "100%|██████████| 1000/1000 [00:19<00:00, 50.11it/s]\n"
     ]
    }
   ],
   "source": [
    "final_rewards, step = [], 0\n",
    "for episode in tqdm(range(1000)):\n",
    "    # initial observation\n",
    "    observation = env.reset()\n",
    "    rewards = []\n",
    "\n",
    "    t = 0\n",
    "    while True:\n",
    "        # RL choose action based on observation\n",
    "        action = agent.choose_action(observation)\n",
    "\n",
    "        # RL take action and get next observation and reward\n",
    "        observation_, reward, done, info = env.step(action)\n",
    "        rewards.append(reward)\n",
    "        if done:\n",
    "            reward = -200\n",
    "\n",
    "        agent.store_transition(observation, action, reward, observation_)\n",
    "\n",
    "        if (step > 200) and (step % 5 == 0):\n",
    "            agent.learn()\n",
    "\n",
    "        # swap observation\n",
    "        observation = observation_\n",
    "\n",
    "        # break while loop when end of this episode\n",
    "        if done:\n",
    "            break\n",
    "        step += 1\n",
    "    final_rewards.append(np.sum(rewards))"
   ]
  },
  {
   "cell_type": "code",
   "execution_count": 4,
   "metadata": {},
   "outputs": [
    {
     "data": {
      "image/png": "[encoded data removed]",
      "text/plain": [
       "<Figure size 432x288 with 1 Axes>"
      ]
     },
     "metadata": {
      "needs_background": "light"
     },
     "output_type": "display_data"
    }
   ],
   "source": [
    "x = np.arange(len(final_rewards))\n",
    "plt.plot(x, final_rewards)\n",
    "plt.xlabel('Episode')\n",
    "plt.ylabel('Rewards')\n",
    "plt.savefig('./image/q-learning-cartpole.png')"
   ]
  },
  {
   "cell_type": "code",
   "execution_count": null,
   "metadata": {},
   "outputs": [],
   "source": []
  }
 ],
 "metadata": {
  "kernelspec": {
   "display_name": "Python 3",
   "language": "python",
   "name": "python3"
  },
  "language_info": {
   "codemirror_mode": {
    "name": "ipython",
    "version": 3
   },
   "file_extension": ".py",
   "mimetype": "text/x-python",
   "name": "python",
   "nbconvert_exporter": "python",
   "pygments_lexer": "ipython3",
   "version": "3.6.7"
  }
 },
 "nbformat": 4,
 "nbformat_minor": 2
}
